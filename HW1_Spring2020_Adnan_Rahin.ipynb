{
 "cells": [
  {
   "cell_type": "markdown",
   "metadata": {},
   "source": [
    "## HomeWork 1 Due at Mid-night 2/26/2020"
   ]
  },
  {
   "cell_type": "markdown",
   "metadata": {},
   "source": [
    "### This homework will cover the following skills set\n",
    "* Using sql \n",
    "* Checking for null values and outliers\n",
    "* Calculate simple statistics using both SQL and Pandas \n",
    "* Calculate skew and correlation\n",
    "* Basic Data Visualization\n",
    "* How to fix missing values"
   ]
  },
  {
   "cell_type": "markdown",
   "metadata": {},
   "source": [
    "## Late Policy: Take off 50% after one day, 80% after two days"
   ]
  },
  {
   "cell_type": "markdown",
   "metadata": {},
   "source": [
    "**Make sure you have pandasql installed. If not, make sure you run the code in the following cell**"
   ]
  },
  {
   "cell_type": "code",
   "execution_count": 1,
   "metadata": {},
   "outputs": [],
   "source": [
    "import os\n",
    "try:\n",
    "    import pandasql as ps\n",
    "except:\n",
    "    print(\"Failed in import pandasql\")\n",
    "    os.system(\"pip install pandasql\")"
   ]
  },
  {
   "cell_type": "markdown",
   "metadata": {},
   "source": [
    "**Import all standard libaries**"
   ]
  },
  {
   "cell_type": "code",
   "execution_count": 2,
   "metadata": {},
   "outputs": [],
   "source": [
    "import pandas as pd\n",
    "import pandasql as ps\n",
    "import numpy as np\n",
    "import matplotlib.pyplot as plt\n",
    "import seaborn as sns"
   ]
  },
  {
   "cell_type": "markdown",
   "metadata": {},
   "source": [
    "## Loading Car Crashes dataset Number 2 ##"
   ]
  },
  {
   "cell_type": "code",
   "execution_count": 3,
   "metadata": {},
   "outputs": [
    {
     "name": "stdout",
     "output_type": "stream",
     "text": [
      "(52, 10)\n"
     ]
    },
    {
     "data": {
      "text/html": [
       "<div>\n",
       "<style scoped>\n",
       "    .dataframe tbody tr th:only-of-type {\n",
       "        vertical-align: middle;\n",
       "    }\n",
       "\n",
       "    .dataframe tbody tr th {\n",
       "        vertical-align: top;\n",
       "    }\n",
       "\n",
       "    .dataframe thead th {\n",
       "        text-align: right;\n",
       "    }\n",
       "</style>\n",
       "<table border=\"1\" class=\"dataframe\">\n",
       "  <thead>\n",
       "    <tr style=\"text-align: right;\">\n",
       "      <th></th>\n",
       "      <th>accidents</th>\n",
       "      <th>speeding</th>\n",
       "      <th>alcohol</th>\n",
       "      <th>not_distracted</th>\n",
       "      <th>no_previous</th>\n",
       "      <th>ins_premium</th>\n",
       "      <th>ins_losses</th>\n",
       "      <th>state</th>\n",
       "      <th>region</th>\n",
       "      <th>division</th>\n",
       "    </tr>\n",
       "  </thead>\n",
       "  <tbody>\n",
       "    <tr>\n",
       "      <th>0</th>\n",
       "      <td>18.8</td>\n",
       "      <td>7.332</td>\n",
       "      <td>5.640</td>\n",
       "      <td>18.048</td>\n",
       "      <td>15.040</td>\n",
       "      <td>784.55</td>\n",
       "      <td>145.08</td>\n",
       "      <td>AL</td>\n",
       "      <td>South</td>\n",
       "      <td>East South Central</td>\n",
       "    </tr>\n",
       "    <tr>\n",
       "      <th>1</th>\n",
       "      <td>18.1</td>\n",
       "      <td>7.421</td>\n",
       "      <td>4.525</td>\n",
       "      <td>16.290</td>\n",
       "      <td>17.014</td>\n",
       "      <td>1053.48</td>\n",
       "      <td>133.93</td>\n",
       "      <td>AK</td>\n",
       "      <td>West</td>\n",
       "      <td>Pacific</td>\n",
       "    </tr>\n",
       "    <tr>\n",
       "      <th>2</th>\n",
       "      <td>18.6</td>\n",
       "      <td>6.510</td>\n",
       "      <td>5.208</td>\n",
       "      <td>15.624</td>\n",
       "      <td>17.856</td>\n",
       "      <td>899.47</td>\n",
       "      <td>110.35</td>\n",
       "      <td>AZ</td>\n",
       "      <td>West</td>\n",
       "      <td>Mountain</td>\n",
       "    </tr>\n",
       "    <tr>\n",
       "      <th>3</th>\n",
       "      <td>22.4</td>\n",
       "      <td>4.032</td>\n",
       "      <td>5.824</td>\n",
       "      <td>21.056</td>\n",
       "      <td>21.280</td>\n",
       "      <td>827.34</td>\n",
       "      <td>142.39</td>\n",
       "      <td>AR</td>\n",
       "      <td>South</td>\n",
       "      <td>West South Central</td>\n",
       "    </tr>\n",
       "    <tr>\n",
       "      <th>4</th>\n",
       "      <td>12.0</td>\n",
       "      <td>4.200</td>\n",
       "      <td>3.360</td>\n",
       "      <td>10.920</td>\n",
       "      <td>10.680</td>\n",
       "      <td>878.41</td>\n",
       "      <td>165.63</td>\n",
       "      <td>CA</td>\n",
       "      <td>West</td>\n",
       "      <td>Pacific</td>\n",
       "    </tr>\n",
       "  </tbody>\n",
       "</table>\n",
       "</div>"
      ],
      "text/plain": [
       "   accidents  speeding  alcohol  not_distracted  no_previous  ins_premium  \\\n",
       "0       18.8     7.332    5.640          18.048       15.040       784.55   \n",
       "1       18.1     7.421    4.525          16.290       17.014      1053.48   \n",
       "2       18.6     6.510    5.208          15.624       17.856       899.47   \n",
       "3       22.4     4.032    5.824          21.056       21.280       827.34   \n",
       "4       12.0     4.200    3.360          10.920       10.680       878.41   \n",
       "\n",
       "   ins_losses state region            division  \n",
       "0      145.08    AL  South  East South Central  \n",
       "1      133.93    AK   West             Pacific  \n",
       "2      110.35    AZ   West            Mountain  \n",
       "3      142.39    AR  South  West South Central  \n",
       "4      165.63    CA   West             Pacific  "
      ]
     },
     "execution_count": 3,
     "metadata": {},
     "output_type": "execute_result"
    }
   ],
   "source": [
    "crash = pd.read_csv(\"car_crashes2.csv\")\n",
    "print(crash.shape)\n",
    "crash.head()"
   ]
  },
  {
   "cell_type": "markdown",
   "metadata": {},
   "source": [
    "* accidents is the total number of crashes for each state\n",
    "* speeding is the average speeding in each state"
   ]
  },
  {
   "cell_type": "code",
   "execution_count": 4,
   "metadata": {},
   "outputs": [
    {
     "data": {
      "text/plain": [
       "array(['South', 'West', 'Northeast', 'Midwest', 'Territory'], dtype=object)"
      ]
     },
     "execution_count": 4,
     "metadata": {},
     "output_type": "execute_result"
    }
   ],
   "source": [
    "crash.region.unique()"
   ]
  },
  {
   "cell_type": "code",
   "execution_count": 5,
   "metadata": {},
   "outputs": [
    {
     "data": {
      "text/plain": [
       "array(['East South Central', 'Pacific', 'Mountain', 'West South Central',\n",
       "       'New England', 'South Atlantic', 'East North Central',\n",
       "       'West North Central', 'Middle Atlantic', 'Territory'], dtype=object)"
      ]
     },
     "execution_count": 5,
     "metadata": {},
     "output_type": "execute_result"
    }
   ],
   "source": [
    "crash.division.unique()"
   ]
  },
  {
   "cell_type": "markdown",
   "metadata": {},
   "source": [
    "## Question 1. Check if there are any null or NA"
   ]
  },
  {
   "cell_type": "markdown",
   "metadata": {},
   "source": [
    "**Type in your code here**"
   ]
  },
  {
   "cell_type": "code",
   "execution_count": 6,
   "metadata": {},
   "outputs": [
    {
     "name": "stdout",
     "output_type": "stream",
     "text": [
      "accidents         False\n",
      "speeding           True\n",
      "alcohol           False\n",
      "not_distracted    False\n",
      "no_previous       False\n",
      "ins_premium       False\n",
      "ins_losses        False\n",
      "state             False\n",
      "region            False\n",
      "division          False\n",
      "dtype: bool\n"
     ]
    },
    {
     "data": {
      "text/html": [
       "<div>\n",
       "<style scoped>\n",
       "    .dataframe tbody tr th:only-of-type {\n",
       "        vertical-align: middle;\n",
       "    }\n",
       "\n",
       "    .dataframe tbody tr th {\n",
       "        vertical-align: top;\n",
       "    }\n",
       "\n",
       "    .dataframe thead th {\n",
       "        text-align: right;\n",
       "    }\n",
       "</style>\n",
       "<table border=\"1\" class=\"dataframe\">\n",
       "  <thead>\n",
       "    <tr style=\"text-align: right;\">\n",
       "      <th></th>\n",
       "      <th>accidents</th>\n",
       "      <th>speeding</th>\n",
       "      <th>alcohol</th>\n",
       "      <th>not_distracted</th>\n",
       "      <th>no_previous</th>\n",
       "      <th>ins_premium</th>\n",
       "      <th>ins_losses</th>\n",
       "      <th>state</th>\n",
       "      <th>region</th>\n",
       "      <th>division</th>\n",
       "    </tr>\n",
       "  </thead>\n",
       "  <tbody>\n",
       "    <tr>\n",
       "      <th>32</th>\n",
       "      <td>12.3</td>\n",
       "      <td>NaN</td>\n",
       "      <td>3.567</td>\n",
       "      <td>10.824</td>\n",
       "      <td>9.84</td>\n",
       "      <td>1234.31</td>\n",
       "      <td>150.01</td>\n",
       "      <td>NY</td>\n",
       "      <td>Northeast</td>\n",
       "      <td>Middle Atlantic</td>\n",
       "    </tr>\n",
       "  </tbody>\n",
       "</table>\n",
       "</div>"
      ],
      "text/plain": [
       "    accidents  speeding  alcohol  not_distracted  no_previous  ins_premium  \\\n",
       "32       12.3       NaN    3.567          10.824         9.84      1234.31   \n",
       "\n",
       "    ins_losses state     region         division  \n",
       "32      150.01    NY  Northeast  Middle Atlantic  "
      ]
     },
     "execution_count": 6,
     "metadata": {},
     "output_type": "execute_result"
    }
   ],
   "source": [
    "print(crash.isnull().any())\n",
    "crash[crash.isnull().any(axis=1)]"
   ]
  },
  {
   "cell_type": "markdown",
   "metadata": {},
   "source": [
    "## Question 2. Remove any rows that has null or NA"
   ]
  },
  {
   "cell_type": "markdown",
   "metadata": {},
   "source": [
    "**Type in your code here**"
   ]
  },
  {
   "cell_type": "code",
   "execution_count": 7,
   "metadata": {},
   "outputs": [
    {
     "name": "stdout",
     "output_type": "stream",
     "text": [
      "51\n"
     ]
    },
    {
     "data": {
      "text/plain": [
       "accidents         False\n",
       "speeding          False\n",
       "alcohol           False\n",
       "not_distracted    False\n",
       "no_previous       False\n",
       "ins_premium       False\n",
       "ins_losses        False\n",
       "state             False\n",
       "region            False\n",
       "division          False\n",
       "dtype: bool"
      ]
     },
     "execution_count": 7,
     "metadata": {},
     "output_type": "execute_result"
    }
   ],
   "source": [
    "crash.dropna(inplace=True)\n",
    "print(len(crash))\n",
    "crash.isnull().any()"
   ]
  },
  {
   "cell_type": "markdown",
   "metadata": {},
   "source": [
    "## Question 3. Check if there is any outliers in the alcohol field using both scatter and boxplot"
   ]
  },
  {
   "cell_type": "markdown",
   "metadata": {},
   "source": [
    "**Type in your code here**"
   ]
  },
  {
   "cell_type": "code",
   "execution_count": 8,
   "metadata": {},
   "outputs": [
    {
     "data": {
      "text/plain": [
       "<matplotlib.axes._subplots.AxesSubplot at 0x7f1b7d0b2690>"
      ]
     },
     "execution_count": 8,
     "metadata": {},
     "output_type": "execute_result"
    },
    {
     "data": {
      "image/png": "[encoded data removed]",
      "text/plain": [
       "<Figure size 432x288 with 1 Axes>"
      ]
     },
     "metadata": {
      "needs_background": "light"
     },
     "output_type": "display_data"
    }
   ],
   "source": [
    "sns.boxplot(crash['alcohol'])"
   ]
  },
  {
   "cell_type": "code",
   "execution_count": 9,
   "metadata": {},
   "outputs": [
    {
     "data": {
      "text/plain": [
       "<matplotlib.axes._subplots.AxesSubplot at 0x7f1b524ef590>"
      ]
     },
     "execution_count": 9,
     "metadata": {},
     "output_type": "execute_result"
    },
    {
     "data": {
      "image/png": "[encoded data removed]",
      "text/plain": [
       "<Figure size 432x288 with 1 Axes>"
      ]
     },
     "metadata": {
      "needs_background": "light"
     },
     "output_type": "display_data"
    }
   ],
   "source": [
    "crash.plot.scatter(x='alcohol', y='accidents')"
   ]
  },
  {
   "cell_type": "markdown",
   "metadata": {},
   "source": [
    "## Question 4. Display and then Remove the one outlier row. You should now have 50 rows"
   ]
  },
  {
   "cell_type": "markdown",
   "metadata": {},
   "source": [
    "**Type in your code here**"
   ]
  },
  {
   "cell_type": "code",
   "execution_count": 10,
   "metadata": {},
   "outputs": [],
   "source": [
    "def remove_outlier(df_in, col_name):\n",
    "    q1 = df_in[col_name].quantile(0.25)\n",
    "    q3 = df_in[col_name].quantile(0.84)\n",
    "    iqr = q3-q1 \n",
    "    fence_low  = q1-1.5*iqr\n",
    "    fence_high = q3+1.5*iqr\n",
    "    rows = df_in.loc[(df_in[col_name] < fence_low) | (df_in[col_name] > fence_high)]\n",
    "    df_out = df_in.loc[(df_in[col_name] >= fence_low) & (df_in[col_name] <= fence_high)]\n",
    "    return df_out, rows"
   ]
  },
  {
   "cell_type": "code",
   "execution_count": 11,
   "metadata": {},
   "outputs": [
    {
     "data": {
      "text/html": [
       "<div>\n",
       "<style scoped>\n",
       "    .dataframe tbody tr th:only-of-type {\n",
       "        vertical-align: middle;\n",
       "    }\n",
       "\n",
       "    .dataframe tbody tr th {\n",
       "        vertical-align: top;\n",
       "    }\n",
       "\n",
       "    .dataframe thead th {\n",
       "        text-align: right;\n",
       "    }\n",
       "</style>\n",
       "<table border=\"1\" class=\"dataframe\">\n",
       "  <thead>\n",
       "    <tr style=\"text-align: right;\">\n",
       "      <th></th>\n",
       "      <th>accidents</th>\n",
       "      <th>speeding</th>\n",
       "      <th>alcohol</th>\n",
       "      <th>not_distracted</th>\n",
       "      <th>no_previous</th>\n",
       "      <th>ins_premium</th>\n",
       "      <th>ins_losses</th>\n",
       "      <th>state</th>\n",
       "      <th>region</th>\n",
       "      <th>division</th>\n",
       "    </tr>\n",
       "  </thead>\n",
       "  <tbody>\n",
       "    <tr>\n",
       "      <th>39</th>\n",
       "      <td>17.2</td>\n",
       "      <td>7.1</td>\n",
       "      <td>40.642</td>\n",
       "      <td>17.472</td>\n",
       "      <td>16.016</td>\n",
       "      <td>905.99</td>\n",
       "      <td>153.86</td>\n",
       "      <td>PR</td>\n",
       "      <td>Territory</td>\n",
       "      <td>Territory</td>\n",
       "    </tr>\n",
       "  </tbody>\n",
       "</table>\n",
       "</div>"
      ],
      "text/plain": [
       "    accidents  speeding  alcohol  not_distracted  no_previous  ins_premium  \\\n",
       "39       17.2       7.1   40.642          17.472       16.016       905.99   \n",
       "\n",
       "    ins_losses state     region   division  \n",
       "39      153.86    PR  Territory  Territory  "
      ]
     },
     "execution_count": 11,
     "metadata": {},
     "output_type": "execute_result"
    }
   ],
   "source": [
    "crash, rows = remove_outlier(crash, 'alcohol')\n",
    "rows.head()"
   ]
  },
  {
   "cell_type": "markdown",
   "metadata": {},
   "source": [
    "## Question 5. Calculate the average speeding in usa and Northeast region using SQL"
   ]
  },
  {
   "cell_type": "markdown",
   "metadata": {},
   "source": [
    "**Type in your code here**"
   ]
  },
  {
   "cell_type": "code",
   "execution_count": 12,
   "metadata": {},
   "outputs": [
    {
     "name": "stdout",
     "output_type": "stream",
     "text": [
      "Average Speed in USA:\n",
      "   AVG(speeding)\n",
      "0        5.01944\n",
      "Average Speed in Northeast:\n",
      "   AVG(speeding)\n",
      "0        4.42475\n"
     ]
    }
   ],
   "source": [
    "query1 = 'SELECT AVG(speeding) FROM crash'\n",
    "print('Average Speed in USA:')\n",
    "print(ps.sqldf(query1))\n",
    "query2 = \"SELECT AVG(speeding) FROM crash WHERE region = 'Northeast'\"\n",
    "print('Average Speed in Northeast:')\n",
    "print(ps.sqldf(query2))"
   ]
  },
  {
   "cell_type": "markdown",
   "metadata": {},
   "source": [
    "## Question 6. Calculate the average alcohol for each region using SQL"
   ]
  },
  {
   "cell_type": "markdown",
   "metadata": {},
   "source": [
    "**Type in your code here**"
   ]
  },
  {
   "cell_type": "code",
   "execution_count": 13,
   "metadata": {},
   "outputs": [
    {
     "name": "stdout",
     "output_type": "stream",
     "text": [
      "All The Region:  ['South' 'West' 'Northeast' 'Midwest']\n",
      "      region  AVG(alcohol)\n",
      "0    Midwest      4.996917\n",
      "1  Northeast      3.980500\n",
      "2      South      5.414647\n",
      "3       West      4.754077\n"
     ]
    }
   ],
   "source": [
    "print('All The Region: ',crash.region.unique())\n",
    "query3 = 'SELECT region, AVG(alcohol) FROM crash group by region'\n",
    "print(ps.sqldf(query3))"
   ]
  },
  {
   "cell_type": "markdown",
   "metadata": {},
   "source": [
    "## Question 7. Calculate the number of occurrences, mean, min, max of the speeding for each divison using SQL"
   ]
  },
  {
   "cell_type": "markdown",
   "metadata": {},
   "source": [
    "**Type in your code here**"
   ]
  },
  {
   "cell_type": "code",
   "execution_count": 14,
   "metadata": {},
   "outputs": [
    {
     "data": {
      "text/html": [
       "<div>\n",
       "<style scoped>\n",
       "    .dataframe tbody tr th:only-of-type {\n",
       "        vertical-align: middle;\n",
       "    }\n",
       "\n",
       "    .dataframe tbody tr th {\n",
       "        vertical-align: top;\n",
       "    }\n",
       "\n",
       "    .dataframe thead th {\n",
       "        text-align: right;\n",
       "    }\n",
       "</style>\n",
       "<table border=\"1\" class=\"dataframe\">\n",
       "  <thead>\n",
       "    <tr style=\"text-align: right;\">\n",
       "      <th></th>\n",
       "      <th>division</th>\n",
       "      <th>count</th>\n",
       "      <th>mean</th>\n",
       "      <th>max</th>\n",
       "      <th>min</th>\n",
       "    </tr>\n",
       "  </thead>\n",
       "  <tbody>\n",
       "    <tr>\n",
       "      <th>0</th>\n",
       "      <td>East North Central</td>\n",
       "      <td>5</td>\n",
       "      <td>4.106600</td>\n",
       "      <td>4.968</td>\n",
       "      <td>3.384</td>\n",
       "    </tr>\n",
       "    <tr>\n",
       "      <th>1</th>\n",
       "      <td>East South Central</td>\n",
       "      <td>4</td>\n",
       "      <td>4.533250</td>\n",
       "      <td>7.332</td>\n",
       "      <td>2.640</td>\n",
       "    </tr>\n",
       "    <tr>\n",
       "      <th>2</th>\n",
       "      <td>Middle Atlantic</td>\n",
       "      <td>2</td>\n",
       "      <td>5.446000</td>\n",
       "      <td>9.100</td>\n",
       "      <td>1.792</td>\n",
       "    </tr>\n",
       "    <tr>\n",
       "      <th>3</th>\n",
       "      <td>Mountain</td>\n",
       "      <td>8</td>\n",
       "      <td>5.812250</td>\n",
       "      <td>8.346</td>\n",
       "      <td>3.496</td>\n",
       "    </tr>\n",
       "    <tr>\n",
       "      <th>4</th>\n",
       "      <td>New England</td>\n",
       "      <td>6</td>\n",
       "      <td>4.084333</td>\n",
       "      <td>5.738</td>\n",
       "      <td>1.886</td>\n",
       "    </tr>\n",
       "    <tr>\n",
       "      <th>5</th>\n",
       "      <td>Pacific</td>\n",
       "      <td>5</td>\n",
       "      <td>5.949400</td>\n",
       "      <td>9.450</td>\n",
       "      <td>4.200</td>\n",
       "    </tr>\n",
       "    <tr>\n",
       "      <th>6</th>\n",
       "      <td>South Atlantic</td>\n",
       "      <td>9</td>\n",
       "      <td>5.030444</td>\n",
       "      <td>9.082</td>\n",
       "      <td>2.006</td>\n",
       "    </tr>\n",
       "    <tr>\n",
       "      <th>7</th>\n",
       "      <td>West North Central</td>\n",
       "      <td>7</td>\n",
       "      <td>4.293429</td>\n",
       "      <td>6.923</td>\n",
       "      <td>1.937</td>\n",
       "    </tr>\n",
       "    <tr>\n",
       "      <th>8</th>\n",
       "      <td>West South Central</td>\n",
       "      <td>4</td>\n",
       "      <td>6.333750</td>\n",
       "      <td>7.760</td>\n",
       "      <td>4.032</td>\n",
       "    </tr>\n",
       "  </tbody>\n",
       "</table>\n",
       "</div>"
      ],
      "text/plain": [
       "             division  count      mean    max    min\n",
       "0  East North Central      5  4.106600  4.968  3.384\n",
       "1  East South Central      4  4.533250  7.332  2.640\n",
       "2     Middle Atlantic      2  5.446000  9.100  1.792\n",
       "3            Mountain      8  5.812250  8.346  3.496\n",
       "4         New England      6  4.084333  5.738  1.886\n",
       "5             Pacific      5  5.949400  9.450  4.200\n",
       "6      South Atlantic      9  5.030444  9.082  2.006\n",
       "7  West North Central      7  4.293429  6.923  1.937\n",
       "8  West South Central      4  6.333750  7.760  4.032"
      ]
     },
     "execution_count": 14,
     "metadata": {},
     "output_type": "execute_result"
    }
   ],
   "source": [
    "query4 = 'SELECT division, COUNT(*) as count, AVG(speeding) as mean, MAX(speeding) as max, MIN(speeding) as min FROM crash GROUP BY division'\n",
    "df = ps.sqldf(query4)\n",
    "df"
   ]
  },
  {
   "cell_type": "markdown",
   "metadata": {},
   "source": [
    "## Question 8. Answer Question 7 but use Pandas functions"
   ]
  },
  {
   "cell_type": "markdown",
   "metadata": {},
   "source": [
    "**Type in your code here**"
   ]
  },
  {
   "cell_type": "code",
   "execution_count": 15,
   "metadata": {},
   "outputs": [
    {
     "data": {
      "text/html": [
       "<div>\n",
       "<style scoped>\n",
       "    .dataframe tbody tr th:only-of-type {\n",
       "        vertical-align: middle;\n",
       "    }\n",
       "\n",
       "    .dataframe tbody tr th {\n",
       "        vertical-align: top;\n",
       "    }\n",
       "\n",
       "    .dataframe thead th {\n",
       "        text-align: right;\n",
       "    }\n",
       "</style>\n",
       "<table border=\"1\" class=\"dataframe\">\n",
       "  <thead>\n",
       "    <tr style=\"text-align: right;\">\n",
       "      <th></th>\n",
       "      <th>COUNT</th>\n",
       "      <th>MEAN</th>\n",
       "      <th>MAX</th>\n",
       "      <th>MIN</th>\n",
       "    </tr>\n",
       "    <tr>\n",
       "      <th>division</th>\n",
       "      <th></th>\n",
       "      <th></th>\n",
       "      <th></th>\n",
       "      <th></th>\n",
       "    </tr>\n",
       "  </thead>\n",
       "  <tbody>\n",
       "    <tr>\n",
       "      <th>East North Central</th>\n",
       "      <td>5</td>\n",
       "      <td>4.106600</td>\n",
       "      <td>4.968</td>\n",
       "      <td>3.384</td>\n",
       "    </tr>\n",
       "    <tr>\n",
       "      <th>East South Central</th>\n",
       "      <td>4</td>\n",
       "      <td>4.533250</td>\n",
       "      <td>7.332</td>\n",
       "      <td>2.640</td>\n",
       "    </tr>\n",
       "    <tr>\n",
       "      <th>Middle Atlantic</th>\n",
       "      <td>2</td>\n",
       "      <td>5.446000</td>\n",
       "      <td>9.100</td>\n",
       "      <td>1.792</td>\n",
       "    </tr>\n",
       "    <tr>\n",
       "      <th>Mountain</th>\n",
       "      <td>8</td>\n",
       "      <td>5.812250</td>\n",
       "      <td>8.346</td>\n",
       "      <td>3.496</td>\n",
       "    </tr>\n",
       "    <tr>\n",
       "      <th>New England</th>\n",
       "      <td>6</td>\n",
       "      <td>4.084333</td>\n",
       "      <td>5.738</td>\n",
       "      <td>1.886</td>\n",
       "    </tr>\n",
       "    <tr>\n",
       "      <th>Pacific</th>\n",
       "      <td>5</td>\n",
       "      <td>5.949400</td>\n",
       "      <td>9.450</td>\n",
       "      <td>4.200</td>\n",
       "    </tr>\n",
       "    <tr>\n",
       "      <th>South Atlantic</th>\n",
       "      <td>9</td>\n",
       "      <td>5.030444</td>\n",
       "      <td>9.082</td>\n",
       "      <td>2.006</td>\n",
       "    </tr>\n",
       "    <tr>\n",
       "      <th>West North Central</th>\n",
       "      <td>7</td>\n",
       "      <td>4.293429</td>\n",
       "      <td>6.923</td>\n",
       "      <td>1.937</td>\n",
       "    </tr>\n",
       "    <tr>\n",
       "      <th>West South Central</th>\n",
       "      <td>4</td>\n",
       "      <td>6.333750</td>\n",
       "      <td>7.760</td>\n",
       "      <td>4.032</td>\n",
       "    </tr>\n",
       "  </tbody>\n",
       "</table>\n",
       "</div>"
      ],
      "text/plain": [
       "                    COUNT      MEAN    MAX    MIN\n",
       "division                                         \n",
       "East North Central      5  4.106600  4.968  3.384\n",
       "East South Central      4  4.533250  7.332  2.640\n",
       "Middle Atlantic         2  5.446000  9.100  1.792\n",
       "Mountain                8  5.812250  8.346  3.496\n",
       "New England             6  4.084333  5.738  1.886\n",
       "Pacific                 5  5.949400  9.450  4.200\n",
       "South Atlantic          9  5.030444  9.082  2.006\n",
       "West North Central      7  4.293429  6.923  1.937\n",
       "West South Central      4  6.333750  7.760  4.032"
      ]
     },
     "execution_count": 15,
     "metadata": {},
     "output_type": "execute_result"
    }
   ],
   "source": [
    "raw_data = {'COUNT': crash.groupby('division')['speeding'].count(),\n",
    "    'MEAN': crash.groupby('division')['speeding'].mean(),\n",
    "    'MAX': crash.groupby('division')['speeding'].max(),\n",
    "    'MIN': crash.groupby('division')['speeding'].min(),\n",
    "    }\n",
    "\n",
    "df = pd.DataFrame(raw_data, columns = ['COUNT', 'MEAN', 'MAX', 'MIN'])\n",
    "df"
   ]
  },
  {
   "cell_type": "markdown",
   "metadata": {},
   "source": [
    "## Question 9. Calculate the Standard deviation, Skew and Kurtosis for the accidents, speeding, alcohol for each region"
   ]
  },
  {
   "cell_type": "markdown",
   "metadata": {},
   "source": [
    "**Type in your code here**"
   ]
  },
  {
   "cell_type": "code",
   "execution_count": 16,
   "metadata": {},
   "outputs": [
    {
     "data": {
      "text/html": [
       "<div>\n",
       "<style scoped>\n",
       "    .dataframe tbody tr th:only-of-type {\n",
       "        vertical-align: middle;\n",
       "    }\n",
       "\n",
       "    .dataframe tbody tr th {\n",
       "        vertical-align: top;\n",
       "    }\n",
       "\n",
       "    .dataframe thead th {\n",
       "        text-align: right;\n",
       "    }\n",
       "</style>\n",
       "<table border=\"1\" class=\"dataframe\">\n",
       "  <thead>\n",
       "    <tr style=\"text-align: right;\">\n",
       "      <th></th>\n",
       "      <th>Standard deviation</th>\n",
       "      <th>Skew</th>\n",
       "      <th>Kurtosis</th>\n",
       "    </tr>\n",
       "    <tr>\n",
       "      <th>region</th>\n",
       "      <th></th>\n",
       "      <th></th>\n",
       "      <th></th>\n",
       "    </tr>\n",
       "  </thead>\n",
       "  <tbody>\n",
       "    <tr>\n",
       "      <th>Midwest</th>\n",
       "      <td>3.588988</td>\n",
       "      <td>0.950845</td>\n",
       "      <td>2.067092</td>\n",
       "    </tr>\n",
       "    <tr>\n",
       "      <th>Northeast</th>\n",
       "      <td>3.077453</td>\n",
       "      <td>0.777587</td>\n",
       "      <td>0.726713</td>\n",
       "    </tr>\n",
       "    <tr>\n",
       "      <th>South</th>\n",
       "      <td>4.537037</td>\n",
       "      <td>-1.125839</td>\n",
       "      <td>1.860064</td>\n",
       "    </tr>\n",
       "    <tr>\n",
       "      <th>West</th>\n",
       "      <td>3.325118</td>\n",
       "      <td>0.064819</td>\n",
       "      <td>-1.048692</td>\n",
       "    </tr>\n",
       "  </tbody>\n",
       "</table>\n",
       "</div>"
      ],
      "text/plain": [
       "           Standard deviation      Skew  Kurtosis\n",
       "region                                           \n",
       "Midwest              3.588988  0.950845  2.067092\n",
       "Northeast            3.077453  0.777587  0.726713\n",
       "South                4.537037 -1.125839  1.860064\n",
       "West                 3.325118  0.064819 -1.048692"
      ]
     },
     "execution_count": 16,
     "metadata": {},
     "output_type": "execute_result"
    }
   ],
   "source": [
    "raw_data = {'Standard deviation': crash.groupby('region')['accidents'].std(),\n",
    "    'Skew': crash.groupby('region')['accidents'].skew(),\n",
    "    'Kurtosis': crash.groupby('region')['accidents'].apply(pd.DataFrame.kurt)\n",
    "    }\n",
    "acdnt = pd.DataFrame(raw_data, columns = ['Standard deviation', 'Skew', 'Kurtosis'])\n",
    "acdnt"
   ]
  },
  {
   "cell_type": "code",
   "execution_count": 17,
   "metadata": {},
   "outputs": [
    {
     "data": {
      "text/html": [
       "<div>\n",
       "<style scoped>\n",
       "    .dataframe tbody tr th:only-of-type {\n",
       "        vertical-align: middle;\n",
       "    }\n",
       "\n",
       "    .dataframe tbody tr th {\n",
       "        vertical-align: top;\n",
       "    }\n",
       "\n",
       "    .dataframe thead th {\n",
       "        text-align: right;\n",
       "    }\n",
       "</style>\n",
       "<table border=\"1\" class=\"dataframe\">\n",
       "  <thead>\n",
       "    <tr style=\"text-align: right;\">\n",
       "      <th></th>\n",
       "      <th>Standard deviation</th>\n",
       "      <th>Skew</th>\n",
       "      <th>Kurtosis</th>\n",
       "    </tr>\n",
       "    <tr>\n",
       "      <th>region</th>\n",
       "      <th></th>\n",
       "      <th></th>\n",
       "      <th></th>\n",
       "    </tr>\n",
       "  </thead>\n",
       "  <tbody>\n",
       "    <tr>\n",
       "      <th>Midwest</th>\n",
       "      <td>1.537451</td>\n",
       "      <td>0.121197</td>\n",
       "      <td>-0.737061</td>\n",
       "    </tr>\n",
       "    <tr>\n",
       "      <th>Northeast</th>\n",
       "      <td>2.327773</td>\n",
       "      <td>1.051666</td>\n",
       "      <td>1.763520</td>\n",
       "    </tr>\n",
       "    <tr>\n",
       "      <th>South</th>\n",
       "      <td>2.220711</td>\n",
       "      <td>0.172035</td>\n",
       "      <td>-1.327699</td>\n",
       "    </tr>\n",
       "    <tr>\n",
       "      <th>West</th>\n",
       "      <td>1.803138</td>\n",
       "      <td>0.697441</td>\n",
       "      <td>-0.465455</td>\n",
       "    </tr>\n",
       "  </tbody>\n",
       "</table>\n",
       "</div>"
      ],
      "text/plain": [
       "           Standard deviation      Skew  Kurtosis\n",
       "region                                           \n",
       "Midwest              1.537451  0.121197 -0.737061\n",
       "Northeast            2.327773  1.051666  1.763520\n",
       "South                2.220711  0.172035 -1.327699\n",
       "West                 1.803138  0.697441 -0.465455"
      ]
     },
     "execution_count": 17,
     "metadata": {},
     "output_type": "execute_result"
    }
   ],
   "source": [
    "raw_data = {'Standard deviation': crash.groupby('region')['speeding'].std(),\n",
    "    'Skew': crash.groupby('region')['speeding'].skew(),\n",
    "    'Kurtosis': crash.groupby('region')['speeding'].apply(pd.DataFrame.kurt)\n",
    "    }\n",
    "spdng = pd.DataFrame(raw_data, columns = ['Standard deviation', 'Skew', 'Kurtosis'])\n",
    "spdng"
   ]
  },
  {
   "cell_type": "code",
   "execution_count": 18,
   "metadata": {},
   "outputs": [
    {
     "data": {
      "text/html": [
       "<div>\n",
       "<style scoped>\n",
       "    .dataframe tbody tr th:only-of-type {\n",
       "        vertical-align: middle;\n",
       "    }\n",
       "\n",
       "    .dataframe tbody tr th {\n",
       "        vertical-align: top;\n",
       "    }\n",
       "\n",
       "    .dataframe thead th {\n",
       "        text-align: right;\n",
       "    }\n",
       "</style>\n",
       "<table border=\"1\" class=\"dataframe\">\n",
       "  <thead>\n",
       "    <tr style=\"text-align: right;\">\n",
       "      <th></th>\n",
       "      <th>Standard deviation</th>\n",
       "      <th>Skew</th>\n",
       "      <th>Kurtosis</th>\n",
       "    </tr>\n",
       "    <tr>\n",
       "      <th>region</th>\n",
       "      <th></th>\n",
       "      <th></th>\n",
       "      <th></th>\n",
       "    </tr>\n",
       "  </thead>\n",
       "  <tbody>\n",
       "    <tr>\n",
       "      <th>Midwest</th>\n",
       "      <td>1.824432</td>\n",
       "      <td>2.093467</td>\n",
       "      <td>5.597372</td>\n",
       "    </tr>\n",
       "    <tr>\n",
       "      <th>Northeast</th>\n",
       "      <td>0.872950</td>\n",
       "      <td>0.764250</td>\n",
       "      <td>0.890501</td>\n",
       "    </tr>\n",
       "    <tr>\n",
       "      <th>South</th>\n",
       "      <td>1.773576</td>\n",
       "      <td>0.330988</td>\n",
       "      <td>2.125568</td>\n",
       "    </tr>\n",
       "    <tr>\n",
       "      <th>West</th>\n",
       "      <td>1.910356</td>\n",
       "      <td>1.159752</td>\n",
       "      <td>2.219220</td>\n",
       "    </tr>\n",
       "  </tbody>\n",
       "</table>\n",
       "</div>"
      ],
      "text/plain": [
       "           Standard deviation      Skew  Kurtosis\n",
       "region                                           \n",
       "Midwest              1.824432  2.093467  5.597372\n",
       "Northeast            0.872950  0.764250  0.890501\n",
       "South                1.773576  0.330988  2.125568\n",
       "West                 1.910356  1.159752  2.219220"
      ]
     },
     "execution_count": 18,
     "metadata": {},
     "output_type": "execute_result"
    }
   ],
   "source": [
    "raw_data = {'Standard deviation': crash.groupby('region')['alcohol'].std(),\n",
    "    'Skew': crash.groupby('region')['alcohol'].skew(),\n",
    "    'Kurtosis': crash.groupby('region')['alcohol'].apply(pd.DataFrame.kurt)\n",
    "    }\n",
    "alchl = pd.DataFrame(raw_data, columns = ['Standard deviation', 'Skew', 'Kurtosis'])\n",
    "alchl"
   ]
  },
  {
   "cell_type": "markdown",
   "metadata": {},
   "source": [
    "## Question 10. Plot the histogram of accidents distribution for different region using 5 bins"
   ]
  },
  {
   "cell_type": "markdown",
   "metadata": {},
   "source": [
    "**Type in your answer here**"
   ]
  },
  {
   "cell_type": "code",
   "execution_count": 19,
   "metadata": {},
   "outputs": [
    {
     "data": {
      "text/plain": [
       "array([[<matplotlib.axes._subplots.AxesSubplot object at 0x7f1b5361b9d0>,\n",
       "        <matplotlib.axes._subplots.AxesSubplot object at 0x7f1b52236f10>],\n",
       "       [<matplotlib.axes._subplots.AxesSubplot object at 0x7f1b5220de10>,\n",
       "        <matplotlib.axes._subplots.AxesSubplot object at 0x7f1b521c2690>]],\n",
       "      dtype=object)"
      ]
     },
     "execution_count": 19,
     "metadata": {},
     "output_type": "execute_result"
    },
    {
     "data": {
      "image/png": "[encoded data removed]",
      "text/plain": [
       "<Figure size 432x288 with 4 Axes>"
      ]
     },
     "metadata": {
      "needs_background": "light"
     },
     "output_type": "display_data"
    }
   ],
   "source": [
    "crash['accidents'].hist(by=crash['region'], bins=5)"
   ]
  },
  {
   "cell_type": "markdown",
   "metadata": {},
   "source": [
    "## Question 11. How would you describe the accidents distribution for different region based on the Skew and Kurotsis?\n",
    "(i.e. who has positive and negative skew and who has positive and negative Kurotsis)"
   ]
  },
  {
   "cell_type": "markdown",
   "metadata": {},
   "source": [
    "**Type in your answer here**"
   ]
  },
  {
   "cell_type": "code",
   "execution_count": 20,
   "metadata": {},
   "outputs": [
    {
     "data": {
      "text/html": [
       "<div>\n",
       "<style scoped>\n",
       "    .dataframe tbody tr th:only-of-type {\n",
       "        vertical-align: middle;\n",
       "    }\n",
       "\n",
       "    .dataframe tbody tr th {\n",
       "        vertical-align: top;\n",
       "    }\n",
       "\n",
       "    .dataframe thead th {\n",
       "        text-align: right;\n",
       "    }\n",
       "</style>\n",
       "<table border=\"1\" class=\"dataframe\">\n",
       "  <thead>\n",
       "    <tr style=\"text-align: right;\">\n",
       "      <th></th>\n",
       "      <th>Standard deviation</th>\n",
       "      <th>Skew</th>\n",
       "      <th>Kurtosis</th>\n",
       "    </tr>\n",
       "    <tr>\n",
       "      <th>region</th>\n",
       "      <th></th>\n",
       "      <th></th>\n",
       "      <th></th>\n",
       "    </tr>\n",
       "  </thead>\n",
       "  <tbody>\n",
       "    <tr>\n",
       "      <th>Midwest</th>\n",
       "      <td>3.588988</td>\n",
       "      <td>0.950845</td>\n",
       "      <td>2.067092</td>\n",
       "    </tr>\n",
       "    <tr>\n",
       "      <th>Northeast</th>\n",
       "      <td>3.077453</td>\n",
       "      <td>0.777587</td>\n",
       "      <td>0.726713</td>\n",
       "    </tr>\n",
       "    <tr>\n",
       "      <th>South</th>\n",
       "      <td>4.537037</td>\n",
       "      <td>-1.125839</td>\n",
       "      <td>1.860064</td>\n",
       "    </tr>\n",
       "    <tr>\n",
       "      <th>West</th>\n",
       "      <td>3.325118</td>\n",
       "      <td>0.064819</td>\n",
       "      <td>-1.048692</td>\n",
       "    </tr>\n",
       "  </tbody>\n",
       "</table>\n",
       "</div>"
      ],
      "text/plain": [
       "           Standard deviation      Skew  Kurtosis\n",
       "region                                           \n",
       "Midwest              3.588988  0.950845  2.067092\n",
       "Northeast            3.077453  0.777587  0.726713\n",
       "South                4.537037 -1.125839  1.860064\n",
       "West                 3.325118  0.064819 -1.048692"
      ]
     },
     "execution_count": 20,
     "metadata": {},
     "output_type": "execute_result"
    }
   ],
   "source": [
    "raw_data = {'Standard deviation': crash.groupby('region')['accidents'].std(),\n",
    "    'Skew': crash.groupby('region')['accidents'].skew(),\n",
    "    'Kurtosis': crash.groupby('region')['accidents'].apply(pd.DataFrame.kurt)\n",
    "    }\n",
    "acdnt = pd.DataFrame(raw_data, columns = ['Standard deviation', 'Skew', 'Kurtosis'])\n",
    "acdnt"
   ]
  },
  {
   "cell_type": "markdown",
   "metadata": {},
   "source": [
    "##### South has Negative Skew and Positive Kurtosis\n",
    "##### West Has the Positive Skew and Negative Kurtosis"
   ]
  },
  {
   "cell_type": "markdown",
   "metadata": {},
   "source": [
    "## Question 12. Calculate correlation of all the factors among themselves and determine which factors among speeding, alcohol and ins_premium will affect accidents the most?"
   ]
  },
  {
   "cell_type": "markdown",
   "metadata": {},
   "source": [
    "**Type in your code here**"
   ]
  },
  {
   "cell_type": "code",
   "execution_count": 23,
   "metadata": {},
   "outputs": [
    {
     "data": {
      "text/html": [
       "<div>\n",
       "<style scoped>\n",
       "    .dataframe tbody tr th:only-of-type {\n",
       "        vertical-align: middle;\n",
       "    }\n",
       "\n",
       "    .dataframe tbody tr th {\n",
       "        vertical-align: top;\n",
       "    }\n",
       "\n",
       "    .dataframe thead th {\n",
       "        text-align: right;\n",
       "    }\n",
       "</style>\n",
       "<table border=\"1\" class=\"dataframe\">\n",
       "  <thead>\n",
       "    <tr style=\"text-align: right;\">\n",
       "      <th></th>\n",
       "      <th>accidents</th>\n",
       "      <th>speeding</th>\n",
       "      <th>alcohol</th>\n",
       "      <th>not_distracted</th>\n",
       "      <th>no_previous</th>\n",
       "      <th>ins_premium</th>\n",
       "      <th>ins_losses</th>\n",
       "    </tr>\n",
       "  </thead>\n",
       "  <tbody>\n",
       "    <tr>\n",
       "      <th>accidents</th>\n",
       "      <td>1.000000</td>\n",
       "      <td>0.608632</td>\n",
       "      <td>0.850706</td>\n",
       "      <td>0.826209</td>\n",
       "      <td>0.956009</td>\n",
       "      <td>-0.174157</td>\n",
       "      <td>-0.025507</td>\n",
       "    </tr>\n",
       "    <tr>\n",
       "      <th>speeding</th>\n",
       "      <td>0.608632</td>\n",
       "      <td>1.000000</td>\n",
       "      <td>0.667377</td>\n",
       "      <td>0.585337</td>\n",
       "      <td>0.568831</td>\n",
       "      <td>-0.059254</td>\n",
       "      <td>-0.059624</td>\n",
       "    </tr>\n",
       "    <tr>\n",
       "      <th>alcohol</th>\n",
       "      <td>0.850706</td>\n",
       "      <td>0.667377</td>\n",
       "      <td>1.000000</td>\n",
       "      <td>0.730435</td>\n",
       "      <td>0.780696</td>\n",
       "      <td>-0.146921</td>\n",
       "      <td>-0.103849</td>\n",
       "    </tr>\n",
       "    <tr>\n",
       "      <th>not_distracted</th>\n",
       "      <td>0.826209</td>\n",
       "      <td>0.585337</td>\n",
       "      <td>0.730435</td>\n",
       "      <td>1.000000</td>\n",
       "      <td>0.745712</td>\n",
       "      <td>-0.157416</td>\n",
       "      <td>-0.068733</td>\n",
       "    </tr>\n",
       "    <tr>\n",
       "      <th>no_previous</th>\n",
       "      <td>0.956009</td>\n",
       "      <td>0.568831</td>\n",
       "      <td>0.780696</td>\n",
       "      <td>0.745712</td>\n",
       "      <td>1.000000</td>\n",
       "      <td>-0.119067</td>\n",
       "      <td>0.007872</td>\n",
       "    </tr>\n",
       "    <tr>\n",
       "      <th>ins_premium</th>\n",
       "      <td>-0.174157</td>\n",
       "      <td>-0.059254</td>\n",
       "      <td>-0.146921</td>\n",
       "      <td>-0.157416</td>\n",
       "      <td>-0.119067</td>\n",
       "      <td>1.000000</td>\n",
       "      <td>0.625381</td>\n",
       "    </tr>\n",
       "    <tr>\n",
       "      <th>ins_losses</th>\n",
       "      <td>-0.025507</td>\n",
       "      <td>-0.059624</td>\n",
       "      <td>-0.103849</td>\n",
       "      <td>-0.068733</td>\n",
       "      <td>0.007872</td>\n",
       "      <td>0.625381</td>\n",
       "      <td>1.000000</td>\n",
       "    </tr>\n",
       "  </tbody>\n",
       "</table>\n",
       "</div>"
      ],
      "text/plain": [
       "                accidents  speeding   alcohol  not_distracted  no_previous  \\\n",
       "accidents        1.000000  0.608632  0.850706        0.826209     0.956009   \n",
       "speeding         0.608632  1.000000  0.667377        0.585337     0.568831   \n",
       "alcohol          0.850706  0.667377  1.000000        0.730435     0.780696   \n",
       "not_distracted   0.826209  0.585337  0.730435        1.000000     0.745712   \n",
       "no_previous      0.956009  0.568831  0.780696        0.745712     1.000000   \n",
       "ins_premium     -0.174157 -0.059254 -0.146921       -0.157416    -0.119067   \n",
       "ins_losses      -0.025507 -0.059624 -0.103849       -0.068733     0.007872   \n",
       "\n",
       "                ins_premium  ins_losses  \n",
       "accidents         -0.174157   -0.025507  \n",
       "speeding          -0.059254   -0.059624  \n",
       "alcohol           -0.146921   -0.103849  \n",
       "not_distracted    -0.157416   -0.068733  \n",
       "no_previous       -0.119067    0.007872  \n",
       "ins_premium        1.000000    0.625381  \n",
       "ins_losses         0.625381    1.000000  "
      ]
     },
     "execution_count": 23,
     "metadata": {},
     "output_type": "execute_result"
    }
   ],
   "source": [
    "crash.corr()"
   ]
  },
  {
   "cell_type": "code",
   "execution_count": 22,
   "metadata": {},
   "outputs": [
    {
     "data": {
      "text/html": [
       "<div>\n",
       "<style scoped>\n",
       "    .dataframe tbody tr th:only-of-type {\n",
       "        vertical-align: middle;\n",
       "    }\n",
       "\n",
       "    .dataframe tbody tr th {\n",
       "        vertical-align: top;\n",
       "    }\n",
       "\n",
       "    .dataframe thead th {\n",
       "        text-align: right;\n",
       "    }\n",
       "</style>\n",
       "<table border=\"1\" class=\"dataframe\">\n",
       "  <thead>\n",
       "    <tr style=\"text-align: right;\">\n",
       "      <th></th>\n",
       "      <th>speeding</th>\n",
       "      <th>alcohol</th>\n",
       "      <th>ins_premium</th>\n",
       "    </tr>\n",
       "  </thead>\n",
       "  <tbody>\n",
       "    <tr>\n",
       "      <th>speeding</th>\n",
       "      <td>1.000000</td>\n",
       "      <td>0.667377</td>\n",
       "      <td>-0.059254</td>\n",
       "    </tr>\n",
       "    <tr>\n",
       "      <th>alcohol</th>\n",
       "      <td>0.667377</td>\n",
       "      <td>1.000000</td>\n",
       "      <td>-0.146921</td>\n",
       "    </tr>\n",
       "    <tr>\n",
       "      <th>ins_premium</th>\n",
       "      <td>-0.059254</td>\n",
       "      <td>-0.146921</td>\n",
       "      <td>1.000000</td>\n",
       "    </tr>\n",
       "  </tbody>\n",
       "</table>\n",
       "</div>"
      ],
      "text/plain": [
       "             speeding   alcohol  ins_premium\n",
       "speeding     1.000000  0.667377    -0.059254\n",
       "alcohol      0.667377  1.000000    -0.146921\n",
       "ins_premium -0.059254 -0.146921     1.000000"
      ]
     },
     "execution_count": 22,
     "metadata": {},
     "output_type": "execute_result"
    }
   ],
   "source": [
    "correlation = crash[['speeding','alcohol','ins_premium']]\n",
    "correlation.corr()"
   ]
  },
  {
   "cell_type": "markdown",
   "metadata": {},
   "source": [
    "##### Speeding and Alcohol has Positive Correlation\n",
    "##### Speeding and ins_premium has Negative Correlation\n",
    "##### Alcholo and ins_premium has Negative Correlation"
   ]
  },
  {
   "cell_type": "markdown",
   "metadata": {},
   "source": [
    "### Now Load a different dataset (MPG dataset number 3)"
   ]
  },
  {
   "cell_type": "code",
   "execution_count": 22,
   "metadata": {},
   "outputs": [
    {
     "name": "stdout",
     "output_type": "stream",
     "text": [
      "(405, 9)\n"
     ]
    },
    {
     "data": {
      "text/html": [
       "<div>\n",
       "<style scoped>\n",
       "    .dataframe tbody tr th:only-of-type {\n",
       "        vertical-align: middle;\n",
       "    }\n",
       "\n",
       "    .dataframe tbody tr th {\n",
       "        vertical-align: top;\n",
       "    }\n",
       "\n",
       "    .dataframe thead th {\n",
       "        text-align: right;\n",
       "    }\n",
       "</style>\n",
       "<table border=\"1\" class=\"dataframe\">\n",
       "  <thead>\n",
       "    <tr style=\"text-align: right;\">\n",
       "      <th></th>\n",
       "      <th>mpg</th>\n",
       "      <th>cylinders</th>\n",
       "      <th>displacement</th>\n",
       "      <th>horsepower</th>\n",
       "      <th>weight</th>\n",
       "      <th>acceleration</th>\n",
       "      <th>model_year</th>\n",
       "      <th>origin</th>\n",
       "      <th>name</th>\n",
       "    </tr>\n",
       "  </thead>\n",
       "  <tbody>\n",
       "    <tr>\n",
       "      <th>0</th>\n",
       "      <td>18.0</td>\n",
       "      <td>8</td>\n",
       "      <td>307.0</td>\n",
       "      <td>130.0</td>\n",
       "      <td>3504.0</td>\n",
       "      <td>12.0</td>\n",
       "      <td>70</td>\n",
       "      <td>usa</td>\n",
       "      <td>chevrolet chevelle malibu</td>\n",
       "    </tr>\n",
       "    <tr>\n",
       "      <th>1</th>\n",
       "      <td>15.0</td>\n",
       "      <td>8</td>\n",
       "      <td>350.0</td>\n",
       "      <td>165.0</td>\n",
       "      <td>3693.0</td>\n",
       "      <td>11.5</td>\n",
       "      <td>70</td>\n",
       "      <td>usa</td>\n",
       "      <td>buick skylark 320</td>\n",
       "    </tr>\n",
       "    <tr>\n",
       "      <th>2</th>\n",
       "      <td>18.0</td>\n",
       "      <td>8</td>\n",
       "      <td>318.0</td>\n",
       "      <td>150.0</td>\n",
       "      <td>3436.0</td>\n",
       "      <td>11.0</td>\n",
       "      <td>70</td>\n",
       "      <td>usa</td>\n",
       "      <td>plymouth satellite</td>\n",
       "    </tr>\n",
       "    <tr>\n",
       "      <th>3</th>\n",
       "      <td>16.0</td>\n",
       "      <td>8</td>\n",
       "      <td>304.0</td>\n",
       "      <td>150.0</td>\n",
       "      <td>3433.0</td>\n",
       "      <td>12.0</td>\n",
       "      <td>70</td>\n",
       "      <td>usa</td>\n",
       "      <td>amc rebel sst</td>\n",
       "    </tr>\n",
       "    <tr>\n",
       "      <th>4</th>\n",
       "      <td>17.0</td>\n",
       "      <td>8</td>\n",
       "      <td>302.0</td>\n",
       "      <td>140.0</td>\n",
       "      <td>3449.0</td>\n",
       "      <td>10.5</td>\n",
       "      <td>70</td>\n",
       "      <td>usa</td>\n",
       "      <td>ford torino</td>\n",
       "    </tr>\n",
       "  </tbody>\n",
       "</table>\n",
       "</div>"
      ],
      "text/plain": [
       "    mpg  cylinders  displacement  horsepower  weight  acceleration  \\\n",
       "0  18.0          8         307.0       130.0  3504.0          12.0   \n",
       "1  15.0          8         350.0       165.0  3693.0          11.5   \n",
       "2  18.0          8         318.0       150.0  3436.0          11.0   \n",
       "3  16.0          8         304.0       150.0  3433.0          12.0   \n",
       "4  17.0          8         302.0       140.0  3449.0          10.5   \n",
       "\n",
       "   model_year origin                       name  \n",
       "0          70    usa  chevrolet chevelle malibu  \n",
       "1          70    usa          buick skylark 320  \n",
       "2          70    usa         plymouth satellite  \n",
       "3          70    usa              amc rebel sst  \n",
       "4          70    usa                ford torino  "
      ]
     },
     "execution_count": 22,
     "metadata": {},
     "output_type": "execute_result"
    }
   ],
   "source": [
    "mpg = pd.read_csv(\"mpg3.csv\")\n",
    "print(mpg.shape)\n",
    "mpg.head()"
   ]
  },
  {
   "cell_type": "markdown",
   "metadata": {},
   "source": [
    "## Question 13: Check to see if there are any missing values. Fix the missing values by imputing value from the mean."
   ]
  },
  {
   "cell_type": "code",
   "execution_count": 23,
   "metadata": {},
   "outputs": [
    {
     "name": "stdout",
     "output_type": "stream",
     "text": [
      "mpg              True\n",
      "cylinders       False\n",
      "displacement    False\n",
      "horsepower       True\n",
      "weight           True\n",
      "acceleration    False\n",
      "model_year      False\n",
      "origin          False\n",
      "name            False\n",
      "dtype: bool\n",
      "\n",
      "\n",
      "Yes, there are missing values in mpg, horsepower, weight\n"
     ]
    }
   ],
   "source": [
    "print(mpg.isnull().any())\n",
    "print(\"\\n\")\n",
    "print(\"Yes, there are missing values in mpg, horsepower, weight\")"
   ]
  },
  {
   "cell_type": "markdown",
   "metadata": {},
   "source": [
    "### Type your code here to fix the missing values by imputing value from the mean"
   ]
  },
  {
   "cell_type": "code",
   "execution_count": 24,
   "metadata": {},
   "outputs": [],
   "source": [
    "mpg['weight'].fillna((mpg['weight'].mean()), inplace=True)\n",
    "mpg['horsepower'].fillna((mpg['horsepower'].mean()), inplace=True)\n",
    "mpg['mpg'].fillna((mpg['mpg'].mean()), inplace=True)"
   ]
  },
  {
   "cell_type": "code",
   "execution_count": 25,
   "metadata": {},
   "outputs": [
    {
     "name": "stdout",
     "output_type": "stream",
     "text": [
      "mpg             False\n",
      "cylinders       False\n",
      "displacement    False\n",
      "horsepower      False\n",
      "weight          False\n",
      "acceleration    False\n",
      "model_year      False\n",
      "origin          False\n",
      "name            False\n",
      "dtype: bool\n"
     ]
    }
   ],
   "source": [
    "print(mpg.isnull().any())"
   ]
  },
  {
   "cell_type": "code",
   "execution_count": null,
   "metadata": {},
   "outputs": [],
   "source": []
  }
 ],
 "metadata": {
  "kernelspec": {
   "display_name": "Python 3",
   "language": "python",
   "name": "python3"
  },
  "language_info": {
   "codemirror_mode": {
    "name": "ipython",
    "version": 3
   },
   "file_extension": ".py",
   "mimetype": "text/x-python",
   "name": "python",
   "nbconvert_exporter": "python",
   "pygments_lexer": "ipython3",
   "version": "3.7.6"
  }
 },
 "nbformat": 4,
 "nbformat_minor": 2
}
